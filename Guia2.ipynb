{
  "nbformat": 4,
  "nbformat_minor": 0,
  "metadata": {
    "colab": {
      "provenance": [],
      "toc_visible": true,
      "authorship_tag": "ABX9TyO7tcWYzlCgnZE+PA+hD4Zk",
      "include_colab_link": true
    },
    "kernelspec": {
      "name": "python3",
      "display_name": "Python 3"
    },
    "language_info": {
      "name": "python"
    }
  },
  "cells": [
    {
      "cell_type": "markdown",
      "metadata": {
        "id": "view-in-github",
        "colab_type": "text"
      },
      "source": [
        "<a href=\"https://colab.research.google.com/github/mgc732/FundamentosProgramacion/blob/master/Guia2.ipynb\" target=\"_parent\"><img src=\"https://colab.research.google.com/assets/colab-badge.svg\" alt=\"Open In Colab\"/></a>"
      ]
    },
    {
      "cell_type": "markdown",
      "source": [
        "# **Clase práctica semana 2**\n",
        "\n",
        "Recordar que la **condicion de control** da como resultado *True o False*, y para llegar a este resultados hacemos uso de una combinacion de operadores. \n",
        "\n",
        "*   [Operadores aritmeticos ](https://https://ellibrodepython.com/operadores-aritmeticos)\n",
        "*   [Operadores relaciones](https://https://ellibrodepython.com/operadores-relacionales)\n",
        "*   [Operadores logicos ](https://https://ellibrodepython.com/operadores-logicos)\n",
        "*    [Estructura de control if-elif-else](https://https://ellibrodepython.com/if-python)\n",
        "\n",
        "\n",
        "Analizar los diagramas de flujo de la filmina U3: **Estructura de control**<br>\n",
        ">if\n",
        "\n",
        ">if-else \n",
        "\n",
        ">if-elif-else\n",
        "\n"
      ],
      "metadata": {
        "id": "ZJjIIAaP0r2e"
      }
    },
    {
      "cell_type": "markdown",
      "source": [
        "##**Ejercicio 1**"
      ],
      "metadata": {
        "id": "gijm1WGp3k4y"
      }
    },
    {
      "cell_type": "markdown",
      "source": [
        "Diseñe e implemente un programa en Python en donde se ingrese un número e informe: \n",
        "\n",
        "a) si es par o impar. \n",
        "\n",
        "b) si es múltiplo de 5. \n",
        "\n",
        "c) si es múltiplo de 3.\n",
        "\n",
        "d) si es múltiplo de 5 y 3 a la vez."
      ],
      "metadata": {
        "id": "e9pgrfq6zCWf"
      }
    },
    {
      "cell_type": "code",
      "execution_count": null,
      "metadata": {
        "colab": {
          "base_uri": "https://localhost:8080/"
        },
        "id": "llUa6RA1yJsS",
        "outputId": "046a9281-30e2-44dd-f6de-db8666eef4e0"
      },
      "outputs": [
        {
          "output_type": "stream",
          "name": "stdout",
          "text": [
            "ingrese un numero entero:45\n",
            "es impar\n",
            "es multiplo de 3 y de 5\n"
          ]
        }
      ],
      "source": [
        "'''\n",
        "El punto a) tiene dos condiciones, o es par (True) o no lo es (False)\n",
        "'''\n",
        "numero = int(input('ingrese un numero entero:'))\n",
        "if numero%2 == 0:\n",
        "  print('es par')\n",
        "else:\n",
        "  print('es impar')\n",
        "'''\n",
        "Analizando los puntos del b) al d) podriamos empezar preguntando si\n",
        "el numero es multiplo de 5 y de 3. Caso contrario se dan 3 \n",
        "posibilidades. Es multiplo de 3 o de 5 o de ninguno\n",
        "'''\n",
        "if numero%3 == 0 and numero%5==0:\n",
        "  print('es multiplo de 3 y de 5')\n",
        "elif numero%3==0:\n",
        "  print('es multiplo de 3')\n",
        "elif numero%5==0:\n",
        "  print('es multiplo de 5')\n",
        "else:\n",
        "  print('no es multiplo de 3 ni de 5')"
      ]
    },
    {
      "cell_type": "markdown",
      "source": [
        "##**Ejercicio 2**"
      ],
      "metadata": {
        "id": "kYL0YcKewBOj"
      }
    },
    {
      "cell_type": "markdown",
      "source": [
        "Escribir un programa en Python para una empresa que tiene salas de juegos para todas las edades y quiere calcular de forma automática el precio que debe cobrar a sus clientes por entrar. El programa debe preguntar al usuario la edad y mostrar el precio de la entrada.<br> \n",
        "Si el cliente es menor de 4 años puede entrar gratis, si tiene entre 4 y 18 años debe pagar \\$150, y si es mayor de 18 años, \\$250"
      ],
      "metadata": {
        "id": "3WJ4FywTwDvp"
      }
    },
    {
      "cell_type": "code",
      "source": [
        "edad = int(input('ingresa su edad:'))\n",
        "if edad<4:\n",
        "  pass\n",
        "elif edad>=4 and edad<=18:\n",
        "  pass\n",
        "else:\n",
        "  pass\n",
        "\n",
        "'''\n",
        "otra forma de expresar edad>=4 and edad<=18\n",
        "es en forma compacta: 4 <= edad <=8  \n",
        "Cambiar pass por el bloque de sentencias correspondientes\n",
        "'''"
      ],
      "metadata": {
        "id": "Df_v_ai8GbdY"
      },
      "execution_count": null,
      "outputs": []
    },
    {
      "cell_type": "markdown",
      "source": [
        "##**Ejercicio 4**\n"
      ],
      "metadata": {
        "id": "xUcVFWch3vwS"
      }
    },
    {
      "cell_type": "markdown",
      "source": [
        "Deseamos saber si un estudiante de colegio secundario vota en las próximas elecciones legislativas a llevarse a cabo el próximo 24 de octubre, para ello debe ser mayor de 16  años. Escriba un programa en Python donde se ingrese la fecha de nacimiento del estudiante con formato día, mes, año y se informe si vota o no."
      ],
      "metadata": {
        "id": "Td_9tezg31qH"
      }
    },
    {
      "cell_type": "code",
      "source": [
        "anio_votacion = 2023\n",
        "mes_votacion = 10\n",
        "dia_votacion = 24\n",
        "\n",
        "anio_nacimiento = int(input('ingrese año de nacimiento:'))\n",
        "mes_nacimiento = int(input('ingrese mes de nacimiento:'))\n",
        "dia_nacimiento = int(input('ingrese dia de nacimiento:'))\n",
        "\n",
        "'''\n",
        "La solución se trabaja de la siguiente manera (Exite mas de una solución)\n",
        "1-obtener la edad, se resta al año actual el año de nacimiento\n",
        "si el resultado:\n",
        "-Es mayor a 16, puede votar\n",
        "-Si es menor a 16, no puede votar\n",
        "-¿Y si es igual a 16?\n",
        "2-si es 16 verificar el mes. Si cumple, pasadas las votacion \n",
        "hay que restar 1 a la edad, ya que no tiene 16\n",
        "3-si tiene 16 y ¿Cumple en el mes de la votación? Se debe\n",
        "verificar el día (idem mes)\n",
        "'''\n",
        "edad = anio_votacion-anio_nacimiento\n",
        "\n",
        "if  edad== 16:\n",
        "  if mes_nacimiento > mes_votacion:\n",
        "    edad = edad -1\n",
        "  elif mes_nacimiento == mes_votacion:\n",
        "    if dia_nacimiento > dia_votacion:\n",
        "      edad = edad -1\n",
        "\n",
        "if edad >= 16:\n",
        "  print('puede votar')\n",
        "else:\n",
        "  print('no puede')"
      ],
      "metadata": {
        "colab": {
          "base_uri": "https://localhost:8080/"
        },
        "id": "FYaVbeIS31Pa",
        "outputId": "545c0361-f4f3-4024-e08e-ef65d4a858ad"
      },
      "execution_count": null,
      "outputs": [
        {
          "output_type": "stream",
          "name": "stdout",
          "text": [
            "ingrese año de nacimiento:2007\n",
            "ingrese mes de nacimiento:10\n",
            "ingrese dia de nacimiento:24\n",
            "puede votar\n"
          ]
        }
      ]
    },
    {
      "cell_type": "code",
      "source": [
        "'''\n",
        "Si tengo la fecha como un numero entero en formato aaaammdd\n",
        "¿Como recupero el anio, el mes y el dia?\n",
        "'''\n",
        "fecha = int(input('fecha en formato aaaammdd:'))\n",
        "anio = fecha//10000\n",
        "'''\n",
        "¿Que devuelve el operador // y por que se usa?\n",
        "¿Por que divir por 10000?\n",
        "aaaammdd\n",
        "-------- = aaaa,mmdd\n",
        " 10000\n",
        "'''\n",
        "mes_aux = fecha-anio*10000\n",
        "mes = mes_aux//100\n",
        "'''\n",
        "aaaammdd - aaaa0000 = mmdd\n",
        "\n",
        "mmdd\n",
        "---- = mm,dd\n",
        "100\n",
        "'''\n",
        "dia = mes_aux-mes*100\n",
        "'''\n",
        "mmdd - mm00 = mm\n",
        "'''\n",
        "print('año:', anio, end=' ')\n",
        "print('mes:', mes, end=' ')\n",
        "print('dia:', dia, end=' ')"
      ],
      "metadata": {
        "colab": {
          "base_uri": "https://localhost:8080/"
        },
        "id": "ticohO74XkM0",
        "outputId": "40c0d8ce-f484-4925-cd10-b764c7108361"
      },
      "execution_count": 2,
      "outputs": [
        {
          "output_type": "stream",
          "name": "stdout",
          "text": [
            "fecha en formato aaaammdd:20230316\n",
            "año: 2023 mes: 3 dia: 16 "
          ]
        }
      ]
    },
    {
      "cell_type": "markdown",
      "source": [
        "##**Ejercicio 5**"
      ],
      "metadata": {
        "id": "g6y4Hxy3_OtN"
      }
    },
    {
      "cell_type": "markdown",
      "source": [
        "Escriba un programa en Python donde se ingrese tres números e informe el mayor."
      ],
      "metadata": {
        "id": "-vGGzP3s_OSC"
      }
    },
    {
      "cell_type": "code",
      "source": [
        "numero1 = int(input('ingrese un numero entero:'))\n",
        "numero2 = int(input('ingrese un numero entero:'))\n",
        "numero3 = int(input('ingrese un numero entero:'))\n",
        "\n",
        "if numero1 > numero2:\n",
        "  if numero1 > numero3:\n",
        "    print(f'{numero1} es el mayor')\n",
        "  else:\n",
        "    print(f'{numero3} es el mayor')\n",
        "elif numero2 > numero3:\n",
        "  print(f'{numero2} es el mayor')\n",
        "else:\n",
        "  print(f'{numero3} es el mayor')"
      ],
      "metadata": {
        "colab": {
          "base_uri": "https://localhost:8080/"
        },
        "id": "1jassOgP_YXx",
        "outputId": "6eb2f604-65fa-4f22-ecae-8310fd93c25f"
      },
      "execution_count": 1,
      "outputs": [
        {
          "output_type": "stream",
          "name": "stdout",
          "text": [
            "ingrese un numero entero:6\n",
            "ingrese un numero entero:67\n",
            "ingrese un numero entero:5\n",
            "67 es el mayor\n"
          ]
        }
      ]
    },
    {
      "cell_type": "markdown",
      "source": [
        "##**Ejercicio 6**"
      ],
      "metadata": {
        "id": "7irTbWArH9oT"
      }
    },
    {
      "cell_type": "markdown",
      "source": [
        "Escriba un programa que pida el radio, las coordenadas del centro de una circunferencia y las coordenadas de un punto y que indique si el punto está sobre la circunferencia, dentro o fuera de ella.\n",
        "\n",
        "Se recuerda que un punto está fuera, dentro o sobre la circunferencia según sea la relación entre el radio y la distancia entre el punto y el centro de la circunferencia.<br>\n",
        "![descarga2.jpg](data:image/jpeg;base64,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)![descarga.png](data:image/png;base64,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)\n",
        "\n",
        "La distancia entre dos puntos A(x, y) y B(x, y) se calcula mediante la fórmula:<br> $d(A,B)=\\sqrt{\\left ( x_{B}-x_{A} \\right )^{2}+\\left ( y_{B}-y_{A} \\right )^{2}}$"
      ],
      "metadata": {
        "id": "StPljFeCIF6e"
      }
    },
    {
      "cell_type": "markdown",
      "source": [
        "###¿Cómo calculamos la raiz n-esima? \n",
        "\n",
        "$\\sqrt[n]{expresion}$ \n",
        "\n",
        "**Forma tradicinal**\n",
        "\n",
        "Recordando que, se puede elevar una expresión a una potencia n-esima utilizando\n",
        "el simbolo de doble asterisco \"**\" y si ademas, se reescribe la raiz n-esima de la forma $(expresion)^1/n$"
      ],
      "metadata": {
        "id": "WkBJv6XsLGpz"
      }
    },
    {
      "cell_type": "code",
      "source": [
        "xcoordA = 0\n",
        "ycoordA = 0\n",
        "xcoordB = 3\n",
        "ycoordB = 4\n",
        "distancia = ((xcoordB-xcoordA)**2 + (ycoordB-ycoordA)**2)**0.5\n",
        "print(f'Distancia: {distancia:.1f}')"
      ],
      "metadata": {
        "colab": {
          "base_uri": "https://localhost:8080/"
        },
        "id": "HdEtK5J5KwZt",
        "outputId": "b69c7414-d9c8-45ea-df50-17871d9df69d"
      },
      "execution_count": null,
      "outputs": [
        {
          "output_type": "stream",
          "name": "stdout",
          "text": [
            "Distancia: 5.0\n"
          ]
        }
      ]
    },
    {
      "cell_type": "markdown",
      "source": [
        "**Usando módulos de Python**\n",
        "\n",
        "Python como lenguaje de proposito general provee una infinidad de herramientas, muchas empaquetadas en módulos.\n",
        "Para resolver el problema del calculo de la raiz cuadrada, implementa una función dentro del módulo **math**.\n",
        "Para hacer uso de la misma, se debe proceeder de la siguiente manera:\n",
        ">Importar el módulo. Se utiliza la palabra reservada **import** seguida del nombre el módulo, se ubica como encabezado del script (siempre al principio). Con esto el interprete sabe el que y el como de todas las herramientas de math\n",
        "\n",
        ">Hacer uso de la funcion **sqrt** (raíz cuadrada). Dependiendo del paso anterior hay mas de una forma de hacerlo. (Ver ejemplos) Tomando el primero para hacer uso de la función, tenemos que acceder a ella, para eso usamos el operador \".\"\n",
        ">>math.sqrt()"
      ],
      "metadata": {
        "id": "Pe7av7EbOgM1"
      }
    },
    {
      "cell_type": "code",
      "source": [
        "import math\n",
        "\n",
        "xcoordA = 0\n",
        "ycoordA = 0\n",
        "xcoordB = 3\n",
        "ycoordB = 4\n",
        "distancia = math.sqrt((xcoordB-xcoordA)**2 + (ycoordB-ycoordA)**2)\n",
        "print(f'Distancia: {distancia:.1f}')\n"
      ],
      "metadata": {
        "colab": {
          "base_uri": "https://localhost:8080/"
        },
        "id": "eV-gRCJAPauB",
        "outputId": "47a95358-6788-48d1-8131-f11124d4ae67"
      },
      "execution_count": null,
      "outputs": [
        {
          "output_type": "stream",
          "name": "stdout",
          "text": [
            "Distancia: 5.0\n"
          ]
        }
      ]
    },
    {
      "cell_type": "code",
      "source": [
        "import math as m\n",
        "\n",
        "xcoordA = 0\n",
        "ycoordA = 0\n",
        "xcoordB = 3\n",
        "ycoordB = 4\n",
        "distancia = m.sqrt((xcoordB-xcoordA)**2 + (ycoordB-ycoordA)**2)\n",
        "print(f'Distancia: {distancia:.1f}')\n"
      ],
      "metadata": {
        "colab": {
          "base_uri": "https://localhost:8080/"
        },
        "id": "ClY-m6rAPnYS",
        "outputId": "c6968346-af45-4691-f981-23749db4e6d8"
      },
      "execution_count": null,
      "outputs": [
        {
          "output_type": "stream",
          "name": "stdout",
          "text": [
            "Distancia: 5.0\n"
          ]
        }
      ]
    },
    {
      "cell_type": "code",
      "source": [
        "from math import sqrt\n",
        "\n",
        "xcoordA = 0\n",
        "ycoordA = 0\n",
        "xcoordB = 3\n",
        "ycoordB = 4\n",
        "distancia = sqrt((xcoordB-xcoordA)**2 + (ycoordB-ycoordA)**2)\n",
        "print(f'Distancia: {distancia:.1f}')\n"
      ],
      "metadata": {
        "colab": {
          "base_uri": "https://localhost:8080/"
        },
        "id": "joTnvizTPs1z",
        "outputId": "0f659ab1-980a-4156-d34c-25e087d62467"
      },
      "execution_count": null,
      "outputs": [
        {
          "output_type": "stream",
          "name": "stdout",
          "text": [
            "Distancia: 5.0\n"
          ]
        }
      ]
    }
  ]
}